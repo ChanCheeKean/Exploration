{
 "cells": [
  {
   "cell_type": "code",
   "execution_count": 1,
   "metadata": {
    "ExecuteTime": {
     "end_time": "2020-07-11T03:46:06.926946Z",
     "start_time": "2020-07-11T03:46:03.341674Z"
    }
   },
   "outputs": [],
   "source": [
    "import cv2"
   ]
  },
  {
   "cell_type": "code",
   "execution_count": 2,
   "metadata": {
    "ExecuteTime": {
     "end_time": "2020-07-11T03:46:07.057251Z",
     "start_time": "2020-07-11T03:46:06.930918Z"
    }
   },
   "outputs": [],
   "source": [
    "# Loading the cascades\n",
    "face_cascade = cv2.CascadeClassifier('./content/haarcascade_frontalface_default.xml')\n",
    "eye_cascade = cv2.CascadeClassifier('./content/haarcascade_eye.xml')"
   ]
  },
  {
   "cell_type": "code",
   "execution_count": 4,
   "metadata": {
    "ExecuteTime": {
     "end_time": "2020-07-11T04:02:39.452656Z",
     "start_time": "2020-07-11T04:02:12.431735Z"
    }
   },
   "outputs": [],
   "source": [
    "# Defining a function that will do the detections\n",
    "def detect(gray, frame):\n",
    "    \n",
    "    # to detect multiple face from gray image\n",
    "    # reduce image size by 1.3 times, at least 5 neighbour zone to be accepted\n",
    "    # faces is a tuple\n",
    "    faces = face_cascade.detectMultiScale(gray, 1.3, 5)\n",
    "    \n",
    "    for (x, y, w, h) in faces:\n",
    "        # top left and bottom right coordinate, color, thickness\n",
    "        cv2.rectangle(frame, (x, y), (x+w, y+h), (255, 0, 0), 2)\n",
    "        roi_gray = gray[y:y+h, x:x+w]\n",
    "        roi_color = frame[y:y+h, x:x+w]\n",
    "        \n",
    "        # detect eyes\n",
    "        eyes = eye_cascade.detectMultiScale(roi_gray, 1.1, 3)\n",
    "        for (ex, ey, ew, eh) in eyes:\n",
    "            cv2.rectangle(roi_color, (ex, ey), (ex+ew, ey+eh), (0, 255, 0), 2)\n",
    "    return frame\n",
    "\n",
    "# on webcam\n",
    "# 0 for internal webcam, 1 for external\n",
    "video_capture = cv2.VideoCapture(0)\n",
    "\n",
    "# keep on repeating until break\n",
    "while True:\n",
    "    \n",
    "    # to get the last frame\n",
    "    _, frame = video_capture.read() \n",
    "    #  color transformation, to gray image\n",
    "    gray = cv2.cvtColor(frame, cv2.COLOR_BGR2GRAY)\n",
    "    canvas = detect(gray, frame)\n",
    "    \n",
    "    # display output\n",
    "    cv2.imshow('Video', canvas)\n",
    "    \n",
    "    # Q to quit\n",
    "    if cv2.waitKey(1) & 0xFF == ord('q'):\n",
    "        break\n",
    "        \n",
    "# off cam and destroy windowqq\n",
    "video_capture.release()\n",
    "cv2.destroyAllWindows()"
   ]
  },
  {
   "cell_type": "code",
   "execution_count": null,
   "metadata": {},
   "outputs": [],
   "source": []
  }
 ],
 "metadata": {
  "kernelspec": {
   "display_name": "Python 3",
   "language": "python",
   "name": "python3"
  },
  "language_info": {
   "codemirror_mode": {
    "name": "ipython",
    "version": 3
   },
   "file_extension": ".py",
   "mimetype": "text/x-python",
   "name": "python",
   "nbconvert_exporter": "python",
   "pygments_lexer": "ipython3",
   "version": "3.7.6"
  },
  "toc": {
   "base_numbering": 1,
   "nav_menu": {},
   "number_sections": true,
   "sideBar": true,
   "skip_h1_title": false,
   "title_cell": "Table of Contents",
   "title_sidebar": "Contents",
   "toc_cell": false,
   "toc_position": {},
   "toc_section_display": true,
   "toc_window_display": false
  }
 },
 "nbformat": 4,
 "nbformat_minor": 4
}
