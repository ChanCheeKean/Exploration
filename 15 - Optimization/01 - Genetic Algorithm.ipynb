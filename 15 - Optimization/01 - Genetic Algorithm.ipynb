{
 "cells": [
  {
   "cell_type": "code",
   "execution_count": 45,
   "metadata": {
    "ExecuteTime": {
     "end_time": "2020-08-11T15:41:22.777090Z",
     "start_time": "2020-08-11T15:41:22.772217Z"
    }
   },
   "outputs": [],
   "source": [
    "import numpy as np"
   ]
  },
  {
   "cell_type": "markdown",
   "metadata": {},
   "source": [
    "Y = w1x1 + w2x2 + w3x3 + w4x4 + w5x5 + w6x6"
   ]
  },
  {
   "cell_type": "code",
   "execution_count": 46,
   "metadata": {
    "ExecuteTime": {
     "end_time": "2020-08-11T15:41:23.166697Z",
     "start_time": "2020-08-11T15:41:23.157072Z"
    }
   },
   "outputs": [],
   "source": [
    "# Inputs of the equation for w1, w2, w3...\n",
    "equation_inputs = [4, 2, -3.5, 5, -11, 4.7]\n",
    "num_weights = 6\n",
    "sol_per_pop = 20\n",
    "input_limits = (-5, 20)\n",
    "\n",
    "pop_size = (sol_per_pop, num_weights)\n",
    "new_population = np.random.uniform(low=input_limits[0], high=input_limits[1], size=pop_size)"
   ]
  },
  {
   "cell_type": "code",
   "execution_count": 47,
   "metadata": {
    "ExecuteTime": {
     "end_time": "2020-08-11T15:41:23.322195Z",
     "start_time": "2020-08-11T15:41:23.303951Z"
    }
   },
   "outputs": [],
   "source": [
    "def cal_pop_fitness(equation_inp, pop):\n",
    "    \"\"\"Calculate fitness value for each sol\"\"\"\n",
    "    fitness = np.sum(pop*equation_inp, axis=1)\n",
    "    return fitness\n",
    "\n",
    "def select_mating_pool(pop, fitness, num_parents):\n",
    "    '''Select the best parents'''\n",
    "    parents = np.empty((num_parents, pop.shape[1]))\n",
    "    for parent_num in range(num_parents):\n",
    "        # get the index of maximum fitness\n",
    "        max_fitness_idx = np.where(fitness == np.max(fitness))[0][0]\n",
    "        parents[parent_num, :] = pop[max_fitness_idx, :]\n",
    "        # avoid selecting such solution againthis sol will \n",
    "        fitness[max_fitness_idx] = -np.inf\n",
    "    return parents\n",
    "\n",
    "def crossover(parents, offspring_size):\n",
    "    '''To create offspring from the best parents'''\n",
    "    offspring = np.empty(offspring_size)\n",
    "    # crossover point random\n",
    "    crossover_point = np.random.randint(1, offspring_size[1] - 1)\n",
    "    \n",
    "    for k in range(offspring_size[0]):\n",
    "        # Index of the first parent to mate.\n",
    "        parent1_idx = k % parents.shape[0]\n",
    "        # Index of the second parent to mate.\n",
    "        parent2_idx = (k+1) % parents.shape[0]\n",
    "        # The new offspring will have its first half of its genes taken from the first parent.\n",
    "        offspring[k, 0:crossover_point] = parents[parent1_idx, 0:crossover_point]\n",
    "        # The new offspring will have its second half of its genes taken from the second parent.\n",
    "        offspring[k, crossover_point:] = parents[parent2_idx, crossover_point:]\n",
    "    return offspring\n",
    "\n",
    "def mutation(offspring, n_mutations=2):\n",
    "    '''To apply mutation to the offsprings'''\n",
    "    for idx in range(offspring.shape[0]):\n",
    "        # get random index and values for mutation\n",
    "        ind = np.random.choice(offspring.shape[1], n_mutations, replace=True)\n",
    "        random_value = np.random.uniform(-1.0, 1.0, len(offspring[idx, ind]))\n",
    "        offspring[idx, ind] += random_value\n",
    "    # boundary\n",
    "    offspring[offspring > input_limits[1]] = input_limits[1]\n",
    "    offspring[offspring < input_limits[0]] = input_limits[0]\n",
    "    return offspring"
   ]
  },
  {
   "cell_type": "code",
   "execution_count": 48,
   "metadata": {
    "ExecuteTime": {
     "end_time": "2020-08-11T15:41:23.667370Z",
     "start_time": "2020-08-11T15:41:23.471001Z"
    },
    "scrolled": true
   },
   "outputs": [
    {
     "name": "stdout",
     "output_type": "stream",
     "text": [
      "223.76539330230833\n",
      "223.76539330230833\n",
      "226.37575965426373\n",
      "237.701789325707\n",
      "239.91649949729214\n",
      "244.5634394030517\n",
      "249.97655479272453\n",
      "250.71740077490324\n",
      "253.12622155606022\n",
      "259.1927396069188\n",
      "261.6051800380523\n",
      "261.6051800380523\n",
      "267.70499643153966\n",
      "269.8823943246432\n",
      "273.98247944502833\n",
      "276.4557192844892\n",
      "276.4557192844892\n",
      "280.87791252549357\n",
      "282.0054387073273\n",
      "286.82180330673475\n",
      "293.59267300316685\n",
      "293.59267300316685\n",
      "297.23177179915274\n",
      "302.6556459628565\n",
      "302.6556459628565\n",
      "305.9213596337386\n",
      "307.62558634106676\n",
      "308.84151483845363\n",
      "311.3166834649128\n",
      "313.66794522100963\n",
      "313.66794522100963\n",
      "314.0508653540762\n",
      "315.53484557672994\n",
      "317.1809469608784\n",
      "319.0541852898026\n",
      "321.7355682784083\n",
      "322.65211498461156\n",
      "324.9024848450706\n",
      "324.9024848450706\n",
      "325.6361673009214\n",
      "327.1641634394727\n",
      "329.06456765302494\n",
      "329.7831923186985\n",
      "331.2869129990696\n",
      "332.045643030464\n",
      "332.80067188537214\n",
      "335.4526710098349\n",
      "337.24979767321724\n",
      "338.8673039270976\n",
      "339.9775855904459\n",
      "340.06799115830336\n",
      "340.78808251774433\n",
      "344.4513585955126\n",
      "345.420995900129\n",
      "347.4815660102015\n",
      "348.8548242643911\n",
      "349.30375272709773\n",
      "352.32051674063894\n",
      "352.4333204631884\n",
      "354.9251121035976\n",
      "357.4837509733091\n",
      "358.4553197089351\n",
      "358.4965044440858\n",
      "360.7680061103411\n",
      "361.36479378099\n",
      "363.2217138327778\n",
      "363.92509096711126\n",
      "365.2684877259241\n",
      "365.9897694633359\n",
      "366.60943479398816\n",
      "367.4973199249673\n",
      "369.8633736731255\n",
      "370.107062023661\n",
      "370.31936003121945\n",
      "371.4337218742421\n",
      "375.5221725556258\n",
      "375.5221725556258\n",
      "376.97208114447733\n",
      "381.07754803687635\n",
      "381.6778307056771\n",
      "384.44064873934485\n",
      "384.44064873934485\n",
      "385.4381052368945\n",
      "386.3010726977885\n",
      "386.3010726977885\n",
      "386.5\n",
      "386.5\n",
      "386.5\n",
      "386.5\n",
      "386.5\n",
      "386.5\n",
      "386.5\n",
      "386.5\n",
      "386.5\n",
      "386.5\n",
      "386.5\n",
      "386.5\n",
      "386.5\n",
      "386.5\n",
      "386.5\n",
      "Best solution :  [[[20. 20. -5. 20. -5. 20.]\n",
      "  [20. 20. -5. 20. -5. 20.]\n",
      "  [20. 20. -5. 20. -5. 20.]\n",
      "  [20. 20. -5. 20. -5. 20.]\n",
      "  [20. 20. -5. 20. -5. 20.]\n",
      "  [20. 20. -5. 20. -5. 20.]\n",
      "  [20. 20. -5. 20. -5. 20.]\n",
      "  [20. 20. -5. 20. -5. 20.]\n",
      "  [20. 20. -5. 20. -5. 20.]\n",
      "  [20. 20. -5. 20. -5. 20.]]]\n",
      "Best solution fitness :  [386.5 386.5 386.5 386.5 386.5 386.5 386.5 386.5 386.5 386.5]\n"
     ]
    }
   ],
   "source": [
    "num_generations = 100\n",
    "num_parents_mating = 5\n",
    "\n",
    "for generation in range(num_generations):\n",
    "    # fitness for all solution\n",
    "    fitness = cal_pop_fitness(equation_inputs, new_population)\n",
    "    print(max(fitness))\n",
    "    # selection of best parents\n",
    "    parents = select_mating_pool(new_population, fitness, num_parents_mating)\n",
    "    # Generating next generation using crossover.\n",
    "    offspring_crossover = crossover(parents, offspring_size=(pop_size[0] - parents.shape[0], num_weights))\n",
    "    # Adding some variations to the offsrping using mutation.\n",
    "    offspring_mutation = mutation(offspring_crossover)\n",
    "    # Creating the new population based on the parents and offspring, 4 parents + 4 offsprings\n",
    "    new_population[0 : parents.shape[0], :] = parents\n",
    "    new_population[parents.shape[0]:, :] = offspring_mutation\n",
    "\n",
    "# final step to get best solution\n",
    "fitness = cal_pop_fitness(equation_inputs, new_population)\n",
    "best_match_idx = np.where(fitness == np.max(fitness))\n",
    "print(\"Best solution : \", new_population[best_match_idx, :])\n",
    "print(\"Best solution fitness : \", fitness[best_match_idx])"
   ]
  },
  {
   "cell_type": "code",
   "execution_count": null,
   "metadata": {},
   "outputs": [],
   "source": []
  }
 ],
 "metadata": {
  "kernelspec": {
   "display_name": "Python 3",
   "language": "python",
   "name": "python3"
  },
  "language_info": {
   "codemirror_mode": {
    "name": "ipython",
    "version": 3
   },
   "file_extension": ".py",
   "mimetype": "text/x-python",
   "name": "python",
   "nbconvert_exporter": "python",
   "pygments_lexer": "ipython3",
   "version": "3.7.6"
  },
  "toc": {
   "base_numbering": 1,
   "nav_menu": {},
   "number_sections": true,
   "sideBar": true,
   "skip_h1_title": false,
   "title_cell": "Table of Contents",
   "title_sidebar": "Contents",
   "toc_cell": false,
   "toc_position": {},
   "toc_section_display": true,
   "toc_window_display": false
  }
 },
 "nbformat": 4,
 "nbformat_minor": 4
}
